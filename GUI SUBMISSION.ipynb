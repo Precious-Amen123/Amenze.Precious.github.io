{
 "cells": [
  {
   "cell_type": "code",
   "execution_count": 7,
   "id": "54e82dd6",
   "metadata": {},
   "outputs": [],
   "source": [
    "import pandas as pd\n",
    "import numpy as np\n",
    "import matplotlib.pyplot as plt\n",
    "import tkinter as tk \n",
    "from tkinter import *\n",
    "from tkinter import filedialog\n",
    "from tkinter.filedialog import askopenfile\n",
    "from matplotlib.backends.backend_tkagg import FigureCanvasTkAgg\n",
    "import os\n",
    "import requests"
   ]
  },
  {
   "cell_type": "code",
   "execution_count": null,
   "id": "fde65915",
   "metadata": {},
   "outputs": [],
   "source": [
    "root = tk.Tk()\n",
    "root.geometry(\"800x800\")\n",
    "root.iconbitmap()\n",
    "root.title(\"ICA SUBMISSION\") \n",
    "\n",
    "data_response = requests.get(\"https://data.police.uk/api/stops-force?force=city-of-london&date=2022-01\")\n",
    "\n",
    "def graph():\n",
    "    data = data_response.text\n",
    "    parse_json = json.loads(data)\n",
    "    \n",
    "    df = pd.json_normalize(parse_json)\n",
    "\n",
    "def open_file():\n",
    "    my_file = filedialog.askopenfile(\n",
    "    initialdir=\"http://localhost:8888/notebooks/OneDrive%20-%20Teesside%20University/COVID%2019%20SUBMISSION.ipynb\",\n",
    "    title=\"open_file\",\n",
    "    filetypes=((\"Text files\", \"*.txt\"), (\"all files\", \"*.*\"))) \n",
    "    \n",
    "    \n",
    "\n",
    "    \n",
    "button1 = Button(root, text='READ ME', command = open_file, font=('Bold', 15),\n",
    "                   fg='#158aff', bd=0, bg='#c3c3c3')                   \n",
    "button1.pack(side = TOP, pady = 10)\n",
    "  \n",
    "button2 = Button(root, text='STOP AND SEARCH', command = open_file, font=('Bold', 15),\n",
    "                   fg='#158aff', bd=0, bg='#c3c3c3')                   \n",
    "button2.pack(side = TOP, pady = 20)\n",
    "\n",
    "button3 = Button(root, text='COVID 19', command = open_file, font=('Bold', 15),\n",
    "                   fg='#158aff', bd=0, bg='#c3c3c3')                   \n",
    "button3.pack(side = TOP, pady = 10)\n",
    "\n",
    "my_label = Label(root, text=\"\")\n",
    "my_label.pack(pady=20)\n",
    "\n",
    "root.mainloop()\n"
   ]
  },
  {
   "cell_type": "code",
   "execution_count": null,
   "id": "c5f7008c",
   "metadata": {},
   "outputs": [],
   "source": []
  }
 ],
 "metadata": {
  "kernelspec": {
   "display_name": "Python 3 (ipykernel)",
   "language": "python",
   "name": "python3"
  },
  "language_info": {
   "codemirror_mode": {
    "name": "ipython",
    "version": 3
   },
   "file_extension": ".py",
   "mimetype": "text/x-python",
   "name": "python",
   "nbconvert_exporter": "python",
   "pygments_lexer": "ipython3",
   "version": "3.9.12"
  }
 },
 "nbformat": 4,
 "nbformat_minor": 5
}
